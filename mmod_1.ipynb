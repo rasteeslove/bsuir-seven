{
 "cells": [
  {
   "cell_type": "markdown",
   "metadata": {
    "tags": []
   },
   "source": [
    "# МатМод"
   ]
  },
  {
   "cell_type": "markdown",
   "metadata": {},
   "source": [
    "### Задание 1"
   ]
  },
  {
   "cell_type": "code",
   "execution_count": 1,
   "metadata": {},
   "outputs": [],
   "source": [
    "import random\n",
    "from ipywidgets import interact, interactive, fixed, interact_manual\n",
    "import ipywidgets as widgets\n",
    "\n",
    "gen_count = 1_000_000\n",
    "\n",
    "def get_event_frequency_function(event_f):\n",
    "    def event_frequency(**kwargs):\n",
    "        sample_set = [event_f(**kwargs) for _ in range(gen_count)]\n",
    "        return sum(sample_set) / gen_count\n",
    "    return event_frequency"
   ]
  },
  {
   "cell_type": "code",
   "execution_count": 2,
   "metadata": {},
   "outputs": [],
   "source": [
    "def generate_simple_event(**kwargs):\n",
    "    p = kwargs['p']\n",
    "    return random.random() < p\n",
    "\n",
    "simple_event_frequency_function = get_event_frequency_function(generate_simple_event)"
   ]
  },
  {
   "cell_type": "code",
   "execution_count": 3,
   "metadata": {},
   "outputs": [
    {
     "data": {
      "application/vnd.jupyter.widget-view+json": {
       "model_id": "8e5f0535748041c0819984918bf30065",
       "version_major": 2,
       "version_minor": 0
      },
      "text/plain": [
       "interactive(children=(FloatSlider(value=0.5, description='p', max=1.0, step=0.01), Button(description='Run Int…"
      ]
     },
     "metadata": {},
     "output_type": "display_data"
    },
    {
     "data": {
      "text/plain": [
       "<function __main__.get_event_frequency_function.<locals>.event_frequency(**kwargs)>"
      ]
     },
     "execution_count": 3,
     "metadata": {},
     "output_type": "execute_result"
    }
   ],
   "source": [
    "interact_manual(simple_event_frequency_function,\n",
    "         p=widgets.FloatSlider(min=0, max=1,step=0.01,value=0.5))"
   ]
  },
  {
   "cell_type": "markdown",
   "metadata": {},
   "source": [
    "### Задание 2"
   ]
  },
  {
   "cell_type": "code",
   "execution_count": 4,
   "metadata": {},
   "outputs": [
    {
     "data": {
      "application/vnd.jupyter.widget-view+json": {
       "model_id": "a850830e91b042fea5432cbdb8ca8f0a",
       "version_major": 2,
       "version_minor": 0
      },
      "text/plain": [
       "HBox(children=(FloatSlider(value=0.5, max=1.0, orientation='vertical', step=0.01), FloatSlider(value=0.5, max=…"
      ]
     },
     "metadata": {},
     "output_type": "display_data"
    },
    {
     "data": {
      "application/vnd.jupyter.widget-view+json": {
       "model_id": "b23c3e117aee4d8eb1f7d915b23f2fed",
       "version_major": 2,
       "version_minor": 0
      },
      "text/plain": [
       "Label(value='The results are [0.50062, 0.499669, 0.499743]')"
      ]
     },
     "metadata": {},
     "output_type": "display_data"
    }
   ],
   "source": [
    "def handle_slider_change(change):\n",
    "    values = [simple_event_frequency_function(p=p.value) for p in p_list]\n",
    "    caption.value = (\n",
    "        f'The results are {values}'\n",
    "    )\n",
    "\n",
    "n_p_list = 3\n",
    "p_list = [\n",
    "    widgets.FloatSlider(min=0, max=1, value=0.5, step=0.01, orientation='vertical')\n",
    "    for i in range(n_p_list)\n",
    "]\n",
    "\n",
    "# register slides\n",
    "for widget in p_list:\n",
    "    widget.observe(handle_slider_change, names='value')\n",
    "\n",
    "# display ui\n",
    "ui = widgets.HBox(p_list)\n",
    "caption = widgets.Label(value=f'The results are {[simple_event_frequency_function(p=p.value) for p in p_list]}')\n",
    "display(ui, caption)"
   ]
  },
  {
   "cell_type": "markdown",
   "metadata": {},
   "source": [
    "### Задание 3"
   ]
  },
  {
   "cell_type": "code",
   "execution_count": 5,
   "metadata": {},
   "outputs": [],
   "source": [
    "def get_events_frequencies_function(event_f):\n",
    "    def events_frequencies(**kwargs):\n",
    "        sample_set = [event_f(**kwargs) for _ in range(gen_count)]\n",
    "        return (sum([s[0] and s[1] for s in sample_set]) / gen_count,\n",
    "                sum([s[0] and not s[1] for s in sample_set]) / gen_count,\n",
    "                sum([not s[0] and s[1] for s in sample_set]) / gen_count,\n",
    "                sum([not s[0] and not s[1] for s in sample_set]) / gen_count)\n",
    "    return events_frequencies\n",
    "\n",
    "def generate_complex_event(**kwargs):\n",
    "    p_a, p_ba = kwargs['p_a'], kwargs['p_ba']\n",
    "    A = generate_simple_event(p=p_a)\n",
    "    if A:\n",
    "        B = generate_simple_event(p=p_ba)\n",
    "    else:\n",
    "        B = generate_simple_event(p=1-p_ba)\n",
    "    return A, B\n",
    "\n",
    "complex_event_frequency_function = get_events_frequencies_function(generate_complex_event)"
   ]
  },
  {
   "cell_type": "code",
   "execution_count": 6,
   "metadata": {},
   "outputs": [
    {
     "data": {
      "application/vnd.jupyter.widget-view+json": {
       "model_id": "519fb6b625ef449d85593aa98f64b6e7",
       "version_major": 2,
       "version_minor": 0
      },
      "text/plain": [
       "interactive(children=(FloatSlider(value=0.0, description='p_a', max=1.0, step=0.01), FloatSlider(value=0.0, de…"
      ]
     },
     "metadata": {},
     "output_type": "display_data"
    },
    {
     "data": {
      "text/plain": [
       "<function __main__.get_events_frequencies_function.<locals>.events_frequencies(**kwargs)>"
      ]
     },
     "execution_count": 6,
     "metadata": {},
     "output_type": "execute_result"
    }
   ],
   "source": [
    "p_a_slider = widgets.FloatSlider(min=0, max=1,step=0.01,value=0.5)\n",
    "p_ba_slider = widgets.FloatSlider(min=0, max=1,step=0.01,value=0.5)\n",
    "\n",
    "interact_manual(complex_event_frequency_function,\n",
    "                p_a=widgets.FloatSlider(min=0, max=1,step=0.01),\n",
    "                p_ba=widgets.FloatSlider(min=0, max=1,step=0.01))"
   ]
  },
  {
   "cell_type": "markdown",
   "metadata": {},
   "source": [
    "### Задание 4"
   ]
  },
  {
   "cell_type": "code",
   "execution_count": 7,
   "metadata": {},
   "outputs": [],
   "source": [
    "def get_full_group_events_frequencies_function(event_f, n_p):\n",
    "    def events_frequencies(**kwargs):\n",
    "        sample_set = [event_f(**kwargs) for _ in range(gen_count)]\n",
    "        return [sample_set.count(i+1) for i in range(n_p)]\n",
    "    return events_frequencies\n",
    "\n",
    "def generate_full_group_event(**kwargs):\n",
    "    probabilities = [int(p) for p in kwargs['probabilities']]\n",
    "    prob_sum = sum(probabilities)\n",
    "    p = random.random()*prob_sum\n",
    "    thresholds = [sum(probabilities[:i]) for i in range(len(probabilities))]\n",
    "    for i, threshold in reversed(list(enumerate(thresholds))):\n",
    "        if p >= threshold:\n",
    "            return i+1"
   ]
  },
  {
   "cell_type": "code",
   "execution_count": 8,
   "metadata": {},
   "outputs": [
    {
     "data": {
      "application/vnd.jupyter.widget-view+json": {
       "model_id": "9444215b0f134bc99d54f6066d5bad48",
       "version_major": 2,
       "version_minor": 0
      },
      "text/plain": [
       "VBox(children=(HBox(children=(Label(value='Diff:'), BoundedIntText(value=1, max=10, min=1), Button(button_styl…"
      ]
     },
     "metadata": {},
     "output_type": "display_data"
    },
    {
     "data": {
      "application/vnd.jupyter.widget-view+json": {
       "model_id": "40ec0c90c94745e3af4f005d2e6efa09",
       "version_major": 2,
       "version_minor": 0
      },
      "text/plain": [
       "Label(value='0')"
      ]
     },
     "metadata": {},
     "output_type": "display_data"
    },
    {
     "data": {
      "application/vnd.jupyter.widget-view+json": {
       "model_id": "5cdbb34f214a4f9492b77f3522aa1660",
       "version_major": 2,
       "version_minor": 0
      },
      "text/plain": [
       "Label(value='Not a full group')"
      ]
     },
     "metadata": {},
     "output_type": "display_data"
    },
    {
     "data": {
      "application/vnd.jupyter.widget-view+json": {
       "model_id": "ab60c6adba864c5aade9115ed49a91cb",
       "version_major": 2,
       "version_minor": 0
      },
      "text/plain": [
       "Label(value='')"
      ]
     },
     "metadata": {},
     "output_type": "display_data"
    }
   ],
   "source": [
    "available_probability = 100\n",
    "n_p_list = 3\n",
    "assert 2 <= n_p_list <= 100\n",
    "\n",
    "full_group_events_frequencies_function = get_full_group_events_frequencies_function(generate_full_group_event, n_p_list)\n",
    "\n",
    "p_list = [\n",
    "    [widgets.Label(value='Diff:'),\n",
    "     widgets.BoundedIntText(value=1, min=1, max=10, step=1, disabled=False),\n",
    "     widgets.Button(description='Less', disabled=False, tooltip='More', button_style='danger'),\n",
    "     widgets.Button(description='More', disabled=False, tooltip='More', button_style='success'),\n",
    "     widgets.Label(value='Probability ->'),\n",
    "     widgets.Label(value='0')]\n",
    "    for i in range(n_p_list)\n",
    "]\n",
    "\n",
    "def get_handle_less_click_function(diff, label):\n",
    "    def handle_less_click(b):\n",
    "        new_label_val = int(label.value) - int(diff.value)\n",
    "        if new_label_val >= 0:\n",
    "            label.value = str(new_label_val)\n",
    "        values = [int(widget_set[5].value) for widget_set in p_list]\n",
    "        sum_ui.value = (\n",
    "            f'{sum(values)}'\n",
    "        )\n",
    "        res_ui.value = 'Not a full group'\n",
    "        res2_ui.value = ''\n",
    "    return handle_less_click\n",
    "\n",
    "def get_handle_more_click_function(diff, label):\n",
    "    def handle_more_click(b):\n",
    "        new_label_val = int(label.value) + int(diff.value)\n",
    "        if int(sum_ui.value)-int(label.value)+new_label_val <= 100:\n",
    "            label.value = str(new_label_val)\n",
    "        values = [int(widget_set[5].value) for widget_set in p_list]\n",
    "        sum_ui.value = (\n",
    "            f'{sum(values)}'\n",
    "        )\n",
    "        if sum(values) == 100:\n",
    "            events_frequencies = full_group_events_frequencies_function(probabilities=[widget_set[5].value for widget_set in p_list])\n",
    "            res_ui.value = f'{events_frequencies}'\n",
    "            res2_ui.value = f'{[event_frequence/gen_count for event_frequence in events_frequencies]}'\n",
    "    return handle_more_click\n",
    "    \n",
    "# register slides\n",
    "for widget_set in p_list:\n",
    "    widget_set[2].on_click(get_handle_less_click_function(widget_set[1], widget_set[5]))\n",
    "    widget_set[3].on_click(get_handle_more_click_function(widget_set[1], widget_set[5]))\n",
    "\n",
    "# display ui\n",
    "widget_set_ui = []\n",
    "for widget_set in p_list:\n",
    "    widget_set_ui.append(widgets.HBox(widget_set))\n",
    "ui = widgets.VBox(widget_set_ui)\n",
    "sum_ui = widgets.Label(value=f'0')\n",
    "res_ui = widgets.Label(value=f'Not a full group')\n",
    "res2_ui = widgets.Label(value='')\n",
    "display(ui, sum_ui, res_ui, res2_ui)\n"
   ]
  },
  {
   "cell_type": "markdown",
   "metadata": {},
   "source": [
    "### Доп. задание"
   ]
  },
  {
   "cell_type": "code",
   "execution_count": 9,
   "metadata": {},
   "outputs": [
    {
     "name": "stdout",
     "output_type": "stream",
     "text": [
      "LIMBO\n"
     ]
    }
   ],
   "source": [
    "games_and_donations = [('LIMBO', 500),\n",
    "                       ('Everhood', 1000),\n",
    "                       ('Undertale', 1500),\n",
    "                       ('OMORI', 2000)]\n",
    "\n",
    "donations = [pair[1] for pair in games_and_donations]\n",
    "\n",
    "print(games_and_donations[generate_full_group_event(probabilities=donations)-1][0])"
   ]
  }
 ],
 "metadata": {
  "kernelspec": {
   "display_name": "Python 3 (ipykernel)",
   "language": "python",
   "name": "python3"
  },
  "language_info": {
   "codemirror_mode": {
    "name": "ipython",
    "version": 3
   },
   "file_extension": ".py",
   "mimetype": "text/x-python",
   "name": "python",
   "nbconvert_exporter": "python",
   "pygments_lexer": "ipython3",
   "version": "3.10.4"
  },
  "vscode": {
   "interpreter": {
    "hash": "916dbcbb3f70747c44a77c7bcd40155683ae19c65e1c03b4aa3499c5328201f1"
   }
  }
 },
 "nbformat": 4,
 "nbformat_minor": 4
}
